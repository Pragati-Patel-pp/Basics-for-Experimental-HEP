{
  "nbformat": 4,
  "nbformat_minor": 0,
  "metadata": {
    "colab": {
      "name": "Copy of activity00_CMS_muons.ipynb",
      "provenance": [],
      "collapsed_sections": [],
      "include_colab_link": true
    },
    "kernelspec": {
      "display_name": "Python 3",
      "language": "python",
      "name": "python3"
    }
  },
  "cells": [
    {
      "cell_type": "markdown",
      "metadata": {
        "id": "view-in-github",
        "colab_type": "text"
      },
      "source": [
        "<a href=\"https://colab.research.google.com/github/Pragati-Patel-pp/Basics-for-Experimental-HEP/blob/master/relativistic%20and%20classical%20mass%20of%20muon.ipynb\" target=\"_parent\"><img src=\"https://colab.research.google.com/assets/colab-badge.svg\" alt=\"Open In Colab\"/></a>"
      ]
    },
    {
      "cell_type": "markdown",
      "metadata": {
        "id": "hX4Slau4BG5f",
        "colab_type": "text"
      },
      "source": [
        "**How to save this notebook to your personal Drive**\n",
        "\n",
        "To copy this notebook to your Google Drive, go to File and select \"Save a copy in Drive\", where it will automatically open the copy in a new tab for you to work in. This notebook will be saved into a folder on your personal Drive called \"Colab Notebooks\".\n",
        "\n",
        "\n",
        "Still stumped? Check out <a href=\"https://www.youtube.com/watch?v=qaJ2UpMPXKk\"> this video</a> for help\n",
        "\n",
        "\n"
      ]
    },
    {
      "cell_type": "markdown",
      "metadata": {
        "id": "clEqqOhrC2ng",
        "colab_type": "text"
      },
      "source": [
        "# Relativistic kinematics"
      ]
    },
    {
      "cell_type": "markdown",
      "metadata": {
        "id": "SyMLvX3SC2nj",
        "colab_type": "text"
      },
      "source": [
        "<h3>Learning goals</h3>\n",
        "<ul>\n",
        "    <li>Relativistic kinematics.\n",
        "    <li>Standard model particles.\n",
        "</ul>"
      ]
    },
    {
      "cell_type": "markdown",
      "metadata": {
        "id": "xXKjPEkqC2nm",
        "colab_type": "text"
      },
      "source": [
        "<b>Background</b>\n",
        "\n",
        "If you know the mass of a particle, most of the time you know <i>what that particle is</i>. However, there is no way to just build a single detector that gives you the mass. You need to be clever and make use of Special relativity, specifically <a href=\"http://en.wikipedia.org/wiki/Relativistic_mechanics\">relativistic kinematics</a>.\n",
        "\n",
        "To determine the mass ($m$) of a particle you need to know the 4-momenta of the particles ($\\mathbf{P}$) that are detected after the collision: the energy ($E$), the momentum in the x direction ($p_x$), the momentum in the y direction ($p_y$), the momentum in the z direction ($p_z$).\n",
        "\n",
        "$$\\mathbf{P} = (E,p_x,p_y,p_z)$$\n",
        "\n",
        "\n",
        "\\begin{equation*} m = \\sqrt{E^2-(p_x^2+p_y^2 + p_z^2)} \\end{equation*}\n"
      ]
    },
    {
      "cell_type": "markdown",
      "metadata": {
        "id": "tEBotUylC2nn",
        "colab_type": "text"
      },
      "source": [
        "<b>Let's code!</b>\n",
        "\n",
        "Here is some sample code that reads in data from a small sample file from the <a href = \"http://cms.cern/\">CMS experiment</a>. It loops over data from many different proton-proton collisions. \n",
        "\n",
        "If you haven't already, you will want to go through the [Data Interfacing](https://colab.research.google.com/drive/1wMs8ffF8KjQhulL90_fCCVIZT5Q4e9x5) exercise so you know how to pull out the relevant information. \n",
        "\n",
        "For each collision, you can get the 4-momenta of the jets, muons, electrons, and photons produced in these collisions. \n",
        "\n"
      ]
    },
    {
      "cell_type": "markdown",
      "metadata": {
        "id": "JoRzIWp-C2n1",
        "colab_type": "text"
      },
      "source": [
        "<h2><font color=\"red\">Challenge!</font></h2>\n",
        "\n",
        "Copy this sample code and use it to calculate the mass of the muons. Make a histogram of this quantity. \n",
        "\n",
        "<i>Hint!</i>\n",
        "\n",
        "Make sure you do this for all the muons! Each collision can produce differing numbers of muons, so take care when you code this up."
      ]
    },
    {
      "cell_type": "code",
      "metadata": {
        "id": "ZlZXynvoC2np",
        "colab_type": "code",
        "colab": {
          "base_uri": "https://localhost:8080/",
          "height": 471
        },
        "outputId": "8e1d51e0-511b-4b49-fb94-aebc4b03f8e9"
      },
      "source": [
        "###### This cell need only be run once per session ##############\n",
        "###### Make sure your runtime type is Python 3 #########\n",
        "\n",
        "# Import h5hep from Github. This is to allow us to read these\n",
        "# particular files. \n",
        "!pip install git+https://github.com/mattbellis/h5hep.git\n",
        "\n",
        "# Import custom tools package from Github. These are some simple accessor functions\n",
        "# to make it easier to work with these data files. \n",
        "!pip install git+https://github.com/mattbellis/particle_physics_simplified.git\n",
        "import numpy as np\n",
        "import matplotlib.pylab as plt\n",
        "import pps_tools as pps\n",
        "import h5hep"
      ],
      "execution_count": null,
      "outputs": [
        {
          "output_type": "stream",
          "text": [
            "Collecting git+https://github.com/mattbellis/h5hep.git\n",
            "  Cloning https://github.com/mattbellis/h5hep.git to /tmp/pip-req-build-nwc1u7kd\n",
            "  Running command git clone -q https://github.com/mattbellis/h5hep.git /tmp/pip-req-build-nwc1u7kd\n",
            "Requirement already satisfied (use --upgrade to upgrade): h5hep==0.9 from git+https://github.com/mattbellis/h5hep.git in /usr/local/lib/python3.6/dist-packages\n",
            "Requirement already satisfied: numpy in /usr/local/lib/python3.6/dist-packages (from h5hep==0.9) (1.18.5)\n",
            "Requirement already satisfied: h5py in /usr/local/lib/python3.6/dist-packages (from h5hep==0.9) (2.10.0)\n",
            "Requirement already satisfied: six in /usr/local/lib/python3.6/dist-packages (from h5py->h5hep==0.9) (1.12.0)\n",
            "Building wheels for collected packages: h5hep\n",
            "  Building wheel for h5hep (setup.py) ... \u001b[?25l\u001b[?25hdone\n",
            "  Created wheel for h5hep: filename=h5hep-0.9-cp36-none-any.whl size=19385 sha256=541d73967d51fae4c2d11e60629d7c6a11c64110d69e82c668686571112c8a34\n",
            "  Stored in directory: /tmp/pip-ephem-wheel-cache-t17un9e3/wheels/1b/5b/88/a70717ae86e789eccefe91a5f3d068353d7dd93a372da84014\n",
            "Successfully built h5hep\n",
            "Collecting git+https://github.com/mattbellis/particle_physics_simplified.git\n",
            "  Cloning https://github.com/mattbellis/particle_physics_simplified.git to /tmp/pip-req-build-ub53v361\n",
            "  Running command git clone -q https://github.com/mattbellis/particle_physics_simplified.git /tmp/pip-req-build-ub53v361\n",
            "Requirement already satisfied (use --upgrade to upgrade): particle-physics-simplified==0.9 from git+https://github.com/mattbellis/particle_physics_simplified.git in /usr/local/lib/python3.6/dist-packages\n",
            "Requirement already satisfied: numpy in /usr/local/lib/python3.6/dist-packages (from particle-physics-simplified==0.9) (1.18.5)\n",
            "Requirement already satisfied: h5py in /usr/local/lib/python3.6/dist-packages (from particle-physics-simplified==0.9) (2.10.0)\n",
            "Requirement already satisfied: h5hep in /usr/local/lib/python3.6/dist-packages (from particle-physics-simplified==0.9) (0.9)\n",
            "Requirement already satisfied: six in /usr/local/lib/python3.6/dist-packages (from h5py->particle-physics-simplified==0.9) (1.12.0)\n",
            "Building wheels for collected packages: particle-physics-simplified\n",
            "  Building wheel for particle-physics-simplified (setup.py) ... \u001b[?25l\u001b[?25hdone\n",
            "  Created wheel for particle-physics-simplified: filename=particle_physics_simplified-0.9-cp36-none-any.whl size=31257 sha256=0a80a8c32c94181815143286f32e22bee595397f79fe07d30e21c7346a64bf87\n",
            "  Stored in directory: /tmp/pip-ephem-wheel-cache-mlv7t24d/wheels/1a/aa/e5/a3256c3dc3cbdff623e6512edecdf9d8e7f6139f4db50797eb\n",
            "Successfully built particle-physics-simplified\n"
          ],
          "name": "stdout"
        }
      ]
    },
    {
      "cell_type": "code",
      "metadata": {
        "id": "iXFgDnMl-930",
        "colab_type": "code",
        "colab": {}
      },
      "source": [
        "###### This cell need only be run once per session ############################\n",
        "\n",
        "# Fetch data file\n",
        "pps.download_from_drive('dimuons_1000_collisions.hdf5')\n"
      ],
      "execution_count": null,
      "outputs": []
    },
    {
      "cell_type": "code",
      "metadata": {
        "id": "WKYmX4fOp6sL",
        "colab_type": "code",
        "colab": {
          "base_uri": "https://localhost:8080/",
          "height": 139
        },
        "outputId": "7d26880f-392b-4a4f-a0c6-dc2f10a38de9"
      },
      "source": [
        "infile = 'data/dimuons_1000_collisions.hdf5'\n",
        "collisions = pps.get_collisions(infile,experiment='CMS',verbose=False)"
      ],
      "execution_count": null,
      "outputs": [
        {
          "output_type": "stream",
          "text": [
            "\n",
            "Building a simplified interface to the events...\n",
            "\n",
            "Building the indices...\n",
            "Built the indices!\n",
            "Data is read in and input file is closed.\n",
            "Reading in event  0\n"
          ],
          "name": "stdout"
        }
      ]
    },
    {
      "cell_type": "markdown",
      "metadata": {
        "id": "HXprgL6oC2n2",
        "colab_type": "text"
      },
      "source": [
        "Your histogram should look something like the following sketch, though the peak will be at different values. \n",
        "\n",
        "The value of the peak, should be the mass of the particle <a href=\"http://en.wikipedia.org/wiki/Muon\">Check your answer!</a> \n",
        "\n",
        "You should also make histograms of the energy and magnitude of momentum ($|p|$). You should see a pretty wide range of values for these, and yet the mass is a very specific number.\n",
        "\n",
        "<b>NOTE: If you are getting an error saying that there is no module \"pps_tools\", go to Runtime, and then select Restart runtime. Also make sure that your runtime type is Python 3.</b>"
      ]
    },
    {
      "cell_type": "code",
      "metadata": {
        "id": "WjqWT_Q_C2n2",
        "colab_type": "code",
        "colab": {
          "base_uri": "https://localhost:8080/",
          "height": 341
        },
        "outputId": "b4fcac6a-680e-4290-ca86-c01e37f0fdcd"
      },
      "source": [
        "from IPython.display import Image\n",
        "Image(url='https://raw.githubusercontent.com/particle-physics-playground/playground/master/activities/images/muons_sketch.jpeg')"
      ],
      "execution_count": null,
      "outputs": [
        {
          "output_type": "execute_result",
          "data": {
            "text/html": [
              "<img src=\"https://raw.githubusercontent.com/particle-physics-playground/playground/master/activities/images/muons_sketch.jpeg\"/>"
            ],
            "text/plain": [
              "<IPython.core.display.Image object>"
            ]
          },
          "metadata": {
            "tags": []
          },
          "execution_count": 1
        }
      ]
    },
    {
      "cell_type": "code",
      "metadata": {
        "id": "RzrJUPHjC2n6",
        "colab_type": "code",
        "colab": {
          "base_uri": "https://localhost:8080/",
          "height": 595
        },
        "outputId": "42bff0fe-ad93-4b8d-f8a5-f176d5b699d4"
      },
      "source": [
        "# Your code here\n",
        "alldata = pps.get_all_data(infile,verbose=False)\n",
        "nentries = pps.get_number_of_entries(alldata)\n",
        "\n",
        "print(\"# entries: \",nentries) \n",
        "\n",
        "mass = []\n",
        "energy = []\n",
        "momentum =[]\n",
        "for event in range(nentries):\n",
        "  collision = pps.get_collision(alldata,entry_number=event,experiment='CMS')\n",
        "  muons = collision['muons']\n",
        "\n",
        "  for muon in muons:\n",
        "    e = muon['e']\n",
        "    px = muon['px']\n",
        "    py = muon['py']\n",
        "    pz = muon['pz']\n",
        "    m = np.sqrt(e*e-px*px-py*py-pz*pz)\n",
        "    p = np.sqrt(px*px+py*py+pz*pz)\n",
        "    momentum.append(p)\n",
        "    mass.append(m)\n",
        "    energy.append(e)\n",
        "plt.hist(mass,bins=100,range=(0,0.25));\n",
        "#plt.hist(energy,bins=100,range=(0,100));\n",
        "#plt.hist(momentum,bins=100,range=(0,100));\n"
      ],
      "execution_count": null,
      "outputs": [
        {
          "output_type": "stream",
          "text": [
            "\n",
            "Loading in the data...\n",
            "\n",
            "Building the indices...\n",
            "Built the indices!\n",
            "Data is read in and input file is closed.\n",
            "# entries:  1000\n"
          ],
          "name": "stdout"
        },
        {
          "output_type": "stream",
          "text": [
            "/usr/local/lib/python3.6/dist-packages/ipykernel_launcher.py:19: RuntimeWarning:\n",
            "\n",
            "invalid value encountered in sqrt\n",
            "\n",
            "/usr/local/lib/python3.6/dist-packages/numpy/lib/histograms.py:839: RuntimeWarning:\n",
            "\n",
            "invalid value encountered in greater_equal\n",
            "\n",
            "/usr/local/lib/python3.6/dist-packages/numpy/lib/histograms.py:840: RuntimeWarning:\n",
            "\n",
            "invalid value encountered in less_equal\n",
            "\n"
          ],
          "name": "stderr"
        },
        {
          "output_type": "display_data",
          "data": {
            "image/png": "[encoded data removed]",
            "text/plain": [
              "<Figure size 432x288 with 1 Axes>"
            ]
          },
          "metadata": {
            "tags": [],
            "needs_background": "light"
          }
        }
      ]
    },
    {
      "cell_type": "markdown",
      "metadata": {
        "id": "y8zCkjBrC2n8",
        "colab_type": "text"
      },
      "source": [
        "Suppose we didn't know anything about special relativity and we tried calculating the mass from what we know about classical physics. \n",
        "\n",
        "$$KE = \\frac{1}{2}mv^2 \\qquad KE = \\frac{p^2}{2m} \\qquad m = \\frac{p^2}{2KE}$$\n",
        "\n",
        "Let's interpret the energy from the CMS data as the kinetic energy ($KE$). Use classical mechanics then to calculate the mass of the muon, given the energy/KE and the momentum. What does <b>that</b> histogram look like?\n",
        "\n",
        "*Your histogram should not look like the last one! We know that the Classical description of kinematics is not accurate for particle moving at high energies, so don't worry if the two histograms are different. That's the point!  :)*"
      ]
    },
    {
      "cell_type": "code",
      "metadata": {
        "id": "IcWXwGzlC2n-",
        "colab_type": "code",
        "colab": {
          "base_uri": "https://localhost:8080/",
          "height": 647
        },
        "outputId": "3f49b1c8-d251-4bea-dacd-58a7e54e5dd2"
      },
      "source": [
        "mass2 = np.divide(np.multiply(momentum,momentum),np.multiply(2,energy))\n",
        "print(mass2)\n",
        "plt.hist(mass2, bins=100, range=(0,100))"
      ],
      "execution_count": null,
      "outputs": [
        {
          "output_type": "stream",
          "text": [
            "[9.585276  2.7188952 6.4713197 ... 4.0588117 2.9167054 2.2947295]\n"
          ],
          "name": "stdout"
        },
        {
          "output_type": "execute_result",
          "data": {
            "text/plain": [
              "(array([  0., 191., 371., 307., 244., 161., 134.,  97.,  82.,  59.,  57.,\n",
              "         37.,  31.,  26.,  18.,  21.,  25.,  14.,  21.,  14.,  13.,  10.,\n",
              "         10.,   9.,   3.,   9.,   8.,   3.,   3.,   4.,   2.,   3.,   0.,\n",
              "          0.,   2.,   3.,   0.,   0.,   1.,   0.,   1.,   0.,   1.,   0.,\n",
              "          0.,   0.,   0.,   0.,   0.,   0.,   0.,   0.,   0.,   1.,   0.,\n",
              "          0.,   0.,   0.,   0.,   0.,   0.,   0.,   0.,   0.,   0.,   0.,\n",
              "          0.,   0.,   2.,   0.,   0.,   0.,   0.,   0.,   0.,   0.,   0.,\n",
              "          0.,   0.,   0.,   0.,   0.,   0.,   1.,   0.,   0.,   0.,   0.,\n",
              "          0.,   0.,   0.,   0.,   0.,   0.,   0.,   0.,   0.,   0.,   0.,\n",
              "          0.]),\n",
              " array([  0.,   1.,   2.,   3.,   4.,   5.,   6.,   7.,   8.,   9.,  10.,\n",
              "         11.,  12.,  13.,  14.,  15.,  16.,  17.,  18.,  19.,  20.,  21.,\n",
              "         22.,  23.,  24.,  25.,  26.,  27.,  28.,  29.,  30.,  31.,  32.,\n",
              "         33.,  34.,  35.,  36.,  37.,  38.,  39.,  40.,  41.,  42.,  43.,\n",
              "         44.,  45.,  46.,  47.,  48.,  49.,  50.,  51.,  52.,  53.,  54.,\n",
              "         55.,  56.,  57.,  58.,  59.,  60.,  61.,  62.,  63.,  64.,  65.,\n",
              "         66.,  67.,  68.,  69.,  70.,  71.,  72.,  73.,  74.,  75.,  76.,\n",
              "         77.,  78.,  79.,  80.,  81.,  82.,  83.,  84.,  85.,  86.,  87.,\n",
              "         88.,  89.,  90.,  91.,  92.,  93.,  94.,  95.,  96.,  97.,  98.,\n",
              "         99., 100.], dtype=float32),\n",
              " <a list of 100 Patch objects>)"
            ]
          },
          "metadata": {
            "tags": []
          },
          "execution_count": 51
        },
        {
          "output_type": "display_data",
          "data": {
            "image/png": "[encoded data removed]",
            "text/plain": [
              "<Figure size 432x288 with 1 Axes>"
            ]
          },
          "metadata": {
            "tags": [],
            "needs_background": "light"
          }
        }
      ]
    },
    {
      "cell_type": "code",
      "metadata": {
        "id": "PCULyMRqu9QJ",
        "colab_type": "code",
        "colab": {}
      },
      "source": [
        ""
      ],
      "execution_count": null,
      "outputs": []
    }
  ]
}