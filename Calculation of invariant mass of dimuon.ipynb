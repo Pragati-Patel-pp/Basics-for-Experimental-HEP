{
  "nbformat": 4,
  "nbformat_minor": 0,
  "metadata": {
    "colab": {
      "name": "activity01_CMS_dimuons.ipynb",
      "provenance": [],
      "collapsed_sections": [],
      "include_colab_link": true
    },
    "kernelspec": {
      "display_name": "Python 3",
      "language": "python",
      "name": "python3"
    }
  },
  "cells": [
    {
      "cell_type": "markdown",
      "metadata": {
        "id": "view-in-github",
        "colab_type": "text"
      },
      "source": [
        "<a href=\"https://colab.research.google.com/github/Pragati-Patel-pp/Basics-for-Experimental-HEP/blob/master/Calculation%20of%20invariant%20mass%20of%20dimuon.ipynb\" target=\"_parent\"><img src=\"https://colab.research.google.com/assets/colab-badge.svg\" alt=\"Open In Colab\"/></a>"
      ]
    },
    {
      "cell_type": "markdown",
      "metadata": {
        "id": "MQTLrSzVmTgH",
        "colab_type": "text"
      },
      "source": [
        "**How to save this notebook to your personal Drive**\n",
        "\n",
        "To copy this notebook to your Google Drive, go to File and select \"Save a copy in Drive\", where it will automatically open the copy in a new tab for you to work in. This notebook will be saved into a folder on your personal Drive called \"Colab Notebooks\".\n",
        "\n",
        "\n",
        "Still stumped? Check out <a href=\"https://www.youtube.com/watch?v=qaJ2UpMPXKk\"> this video</a> for help"
      ]
    },
    {
      "cell_type": "markdown",
      "metadata": {
        "id": "ChEwEkRfCRMJ",
        "colab_type": "text"
      },
      "source": [
        "# Looking at the dimuon spectrum over a wide energy range"
      ]
    },
    {
      "cell_type": "markdown",
      "metadata": {
        "id": "5Q3czKXICRMN",
        "colab_type": "text"
      },
      "source": [
        "<h3>Learning goals</h3>\n",
        "<ul>\n",
        "    <li>Relativistic kinematics.\n",
        "    <li>Mesons.\n",
        "</ul>"
      ]
    },
    {
      "cell_type": "markdown",
      "metadata": {
        "id": "-EQWisz_CRMQ",
        "colab_type": "text"
      },
      "source": [
        "<b>Background</b>\n",
        "\n",
        "To determine the mass ($m$) of a particle you need to know the 4-momenta of the particles ($\\mathbf{P}$) that are detected after the collision: the energy ($E$), the momentum in the x direction ($p_x$), the momentum in the y direction ($p_y$), the momentum in the z direction ($p_z$).\n",
        "\n",
        "$$\\mathbf{P} = (E,p_x,p_y,p_z)$$\n",
        "\n",
        "\n",
        "\\begin{equation*} m = \\sqrt{E^2-(p_x^2+p_y^2 + p_z^2)} \\end{equation*}\n",
        "\n",
        "Some particles are very unstable and decay (turn into) to two or more other particles. In fact, they can decay so quickly, that they never interact with your detector! Yikes!\n",
        "\n",
        "However, we can reconstruct the parent particle (sometimes referred to as <b>the initial state particle</b>) and its 4-momentum by adding the 4-momenta of the child particles (sometimes referred to as <b>the decay products</b>). \n",
        "\n",
        "$$\\mathbf{P_{\\rm parent}} = \\mathbf{P_{\\rm child 0}} + \\mathbf{P_{\\rm child 1}} + \\mathbf{P_{\\rm child 2}} + ...$$\n",
        "\n",
        "\n",
        "\n",
        "which breaks down into...\n",
        "\n",
        "$$E_{\\rm parent} = E_{\\rm child 0} + E_{\\rm child 1} + E_{\\rm child 2} + ...$$\n",
        "\n",
        "$$p_{\\rm x parent} = p_{\\rm x child 0} + p_{\\rm x child 1} + p_{\\rm x child 2} + ...$$\n",
        "\n",
        "$$p_{\\rm y parent} = p_{\\rm y child 0} + p_{\\rm y child 1} + p_{\\rm y child 2} + ...$$\n",
        "\n",
        "$$p_{\\rm z parent} = p_{\\rm z child 0} + p_{\\rm y child 1} + p_{\\rm z child 2} + ...$$\n"
      ]
    },
    {
      "cell_type": "markdown",
      "metadata": {
        "id": "rQR8GLXUCRMS",
        "colab_type": "text"
      },
      "source": [
        "<b>Let's code!</b>\n",
        "\n",
        "Here is some very, very basic starter code. It reads in data from the CMS experiment. \n",
        "\n",
        "If you haven't already, you will want to go through the <a href=\"https://colab.research.google.com/drive/1TFvNoq-i8isZoAwnZubRnNM0CrMGXUmP\">CMS data model</a> (also included when you cloned this directory) exercise so you know how to pull out the relevant information. \n",
        "\n",
        "The following example runs with 1000 events that are included with this repository. To better see the full phyiscs, you can download a bigger file, <code>dimuons_100k.dat</code>. To download this file, see the <a href=\"https://colab.research.google.com/drive/174AUxy9qTqQ1XndbJW_Wryz9m95QZRIk\">download_more_data</a> exercise, also included in this repository.\n",
        "\n",
        "<b>NOTE: If you are getting an error saying that there is no module \"pps_tools\", go to Runtime, and then select Restart runtime. Also make sure that your runtime type is Python 3. </b>"
      ]
    },
    {
      "cell_type": "code",
      "metadata": {
        "id": "WUK5VelECRMT",
        "colab_type": "code",
        "colab": {
          "base_uri": "https://localhost:8080/",
          "height": 506
        },
        "outputId": "b2ec14cc-4f1f-4dc7-c095-3b79e8781a5d"
      },
      "source": [
        "###### This cell need only be run once per session ##############\n",
        "###### Make sure your runtime type is Python 3 #########\n",
        "\n",
        "# Import h5hep from Github. This is to allow us to read these\n",
        "# particular files. \n",
        "!pip install git+https://github.com/mattbellis/h5hep.git\n",
        "\n",
        "# Import custom tools package from Github. These are some simple accessor functions\n",
        "# to make it easier to work with these data files. \n",
        "!pip install git+https://github.com/mattbellis/particle_physics_simplified.git\n",
        "\n",
        "import pps_tools as pps\n",
        "import h5hep\n",
        "import numpy as np\n",
        "import matplotlib.pyplot as plt\n"
      ],
      "execution_count": 1,
      "outputs": [
        {
          "output_type": "stream",
          "text": [
            "Collecting git+https://github.com/mattbellis/h5hep.git\n",
            "  Cloning https://github.com/mattbellis/h5hep.git to /tmp/pip-req-build-e71cukmd\n",
            "  Running command git clone -q https://github.com/mattbellis/h5hep.git /tmp/pip-req-build-e71cukmd\n",
            "Requirement already satisfied: numpy in /usr/local/lib/python3.6/dist-packages (from h5hep==0.9) (1.18.5)\n",
            "Requirement already satisfied: h5py in /usr/local/lib/python3.6/dist-packages (from h5hep==0.9) (2.10.0)\n",
            "Requirement already satisfied: six in /usr/local/lib/python3.6/dist-packages (from h5py->h5hep==0.9) (1.12.0)\n",
            "Building wheels for collected packages: h5hep\n",
            "  Building wheel for h5hep (setup.py) ... \u001b[?25l\u001b[?25hdone\n",
            "  Created wheel for h5hep: filename=h5hep-0.9-cp36-none-any.whl size=19385 sha256=54537e4fae2353cbfa9cc2811c6450b95aa28db86c03a0c1755daebf8ca1f28d\n",
            "  Stored in directory: /tmp/pip-ephem-wheel-cache-b2hgmlrn/wheels/1b/5b/88/a70717ae86e789eccefe91a5f3d068353d7dd93a372da84014\n",
            "Successfully built h5hep\n",
            "Installing collected packages: h5hep\n",
            "Successfully installed h5hep-0.9\n",
            "Collecting git+https://github.com/mattbellis/particle_physics_simplified.git\n",
            "  Cloning https://github.com/mattbellis/particle_physics_simplified.git to /tmp/pip-req-build-bkitc0l6\n",
            "  Running command git clone -q https://github.com/mattbellis/particle_physics_simplified.git /tmp/pip-req-build-bkitc0l6\n",
            "Requirement already satisfied: numpy in /usr/local/lib/python3.6/dist-packages (from particle-physics-simplified==0.9) (1.18.5)\n",
            "Requirement already satisfied: h5py in /usr/local/lib/python3.6/dist-packages (from particle-physics-simplified==0.9) (2.10.0)\n",
            "Requirement already satisfied: h5hep in /usr/local/lib/python3.6/dist-packages (from particle-physics-simplified==0.9) (0.9)\n",
            "Requirement already satisfied: six in /usr/local/lib/python3.6/dist-packages (from h5py->particle-physics-simplified==0.9) (1.12.0)\n",
            "Building wheels for collected packages: particle-physics-simplified\n",
            "  Building wheel for particle-physics-simplified (setup.py) ... \u001b[?25l\u001b[?25hdone\n",
            "  Created wheel for particle-physics-simplified: filename=particle_physics_simplified-0.9-cp36-none-any.whl size=31257 sha256=3c12bfeec5a7ae6b630eb0e6213abe137f12a1f4e997bfa6a3681d53c68540dc\n",
            "  Stored in directory: /tmp/pip-ephem-wheel-cache-g7a3yq0v/wheels/1a/aa/e5/a3256c3dc3cbdff623e6512edecdf9d8e7f6139f4db50797eb\n",
            "Successfully built particle-physics-simplified\n",
            "Installing collected packages: particle-physics-simplified\n",
            "Successfully installed particle-physics-simplified-0.9\n"
          ],
          "name": "stdout"
        }
      ]
    },
    {
      "cell_type": "code",
      "metadata": {
        "id": "lORskPqMV6bc",
        "colab_type": "code",
        "colab": {}
      },
      "source": [
        "###### This cell need only be run once per session ############################\n",
        "\n",
        "# Fetch data file\n",
        "pps.download_from_drive('dimuons_100k.hdf5')"
      ],
      "execution_count": 2,
      "outputs": []
    },
    {
      "cell_type": "code",
      "metadata": {
        "id": "qWiWkwKOIB7o",
        "colab_type": "code",
        "colab": {
          "base_uri": "https://localhost:8080/",
          "height": 295
        },
        "outputId": "cd48c401-f14d-4b3c-98e5-6fb3a28c9ef6"
      },
      "source": [
        "# open and read data file\n",
        "infile = 'data/dimuons_100k.hdf5'\n",
        "\n",
        "collisions = pps.get_collisions(infile,experiment='CMS',verbose=False)"
      ],
      "execution_count": 3,
      "outputs": [
        {
          "output_type": "stream",
          "text": [
            "\n",
            "Building a simplified interface to the events...\n",
            "\n",
            "Building the indices...\n",
            "Built the indices!\n",
            "Data is read in and input file is closed.\n",
            "Reading in event  0\n",
            "Reading in event  10000\n",
            "Reading in event  20000\n",
            "Reading in event  30000\n",
            "Reading in event  40000\n",
            "Reading in event  50000\n",
            "Reading in event  60000\n",
            "Reading in event  70000\n",
            "Reading in event  80000\n",
            "Reading in event  90000\n"
          ],
          "name": "stdout"
        }
      ]
    },
    {
      "cell_type": "markdown",
      "metadata": {
        "id": "Q5_Ws3DgCRMe",
        "colab_type": "text"
      },
      "source": [
        "<h2><font color=\"red\">Challenge!</font></h2>\n",
        "\n",
        "Use the sample code to find the mass of the particle that the two muons came from (parent particle). \n",
        "\n",
        "To do this, you will need to loop over all pairs of muons for each collision, sum their 4-momenta (energy, px, py, and pz) and then use that to calculate the invariant mass. \n",
        "\n",
        "Do this for all possible pairs and in addition, break it down so that you calculate the invariant mass for the cases where:\n",
        "* Both muons are positively charged.\n",
        "* Both muons are negatively charged.\n",
        "* The muons have opposite charges.\n",
        "\n",
        "Be careful. Some collisions may have more than 2 muons, so write your code such that it calculates all possible pairs of muons in a given collisions. For example, if there are 3 muons in a collision, there are 3 possible pairs that you can make. \n",
        "\n",
        "<i>Hint!</i>\n",
        "\n",
        "It is very likely that a particle exists where there is a peak in the data. However, this is not always true. \n",
        "A peak in the data is most likely the mass of a particle. You can look at the approximate mass to figure out which particle \n",
        "is found in the data."
      ]
    },
    {
      "cell_type": "markdown",
      "metadata": {
        "id": "Q1GLOtOfCRMg",
        "colab_type": "text"
      },
      "source": [
        "Your histogram should look something like the following sketch. The value of the peaks should be the mass of a particle. You should be able to find two particles in their ground state. <a href=\"http://en.wikipedia.org/wiki/J/psi_meson\">Check your answer for the first particle!</a> <a href=\"http://en.wikipedia.org/wiki/Upsilon_meson\">Check your answer for the second particle!</a> "
      ]
    },
    {
      "cell_type": "code",
      "metadata": {
        "id": "nRdNKhJBCRMh",
        "colab_type": "code",
        "colab": {
          "base_uri": "https://localhost:8080/",
          "height": 341
        },
        "outputId": "643485b1-2ee2-407e-f0a5-01de1f842a0a"
      },
      "source": [
        "from IPython.display import Image\n",
        "Image(url='https://raw.githubusercontent.com/particle-physics-playground/playground/master/activities/images/dimuons_sketch.jpeg')"
      ],
      "execution_count": 4,
      "outputs": [
        {
          "output_type": "execute_result",
          "data": {
            "text/html": [
              "<img src=\"https://raw.githubusercontent.com/particle-physics-playground/playground/master/activities/images/dimuons_sketch.jpeg\"/>"
            ],
            "text/plain": [
              "<IPython.core.display.Image object>"
            ]
          },
          "metadata": {
            "tags": []
          },
          "execution_count": 4
        }
      ]
    },
    {
      "cell_type": "code",
      "metadata": {
        "id": "4l3y5wWLCRMo",
        "colab_type": "code",
        "colab": {
          "base_uri": "https://localhost:8080/",
          "height": 1000
        },
        "outputId": "ee3a44cf-304d-4e7a-c9ac-2c265855ef25"
      },
      "source": [
        "E = 0\n",
        "Px = 0\n",
        "Py =0\n",
        "Pz = 0\n",
        "mass = [] #list for storing invarient mass for all muon pairs.\n",
        "mass_p = [] #list for storing invarient mass when both muons are positively charged.\n",
        "mass_n = [] #list for storing invarient mass when both muons are negatively charged.\n",
        "mass_o = [] #list for storing invarient mass when both muons have opposite charge.\n",
        "for collision in collisions:\n",
        "\n",
        "  muon = collision['muons'] #all muon in a collision\n",
        "  \n",
        "  n = len(muon) # number of muons in collision\n",
        "  for i in range(n): #loop for pairing 2 muons only out of n muons\n",
        "    for j in range(i+1,n):\n",
        "      E = muon[i]['e']+muon[j]['e']\n",
        "      Px = muon[i]['px'] + muon[j]['px']\n",
        "      Py = muon[i]['py'] + muon[j]['py'] \n",
        "      Pz = muon[i]['pz'] + muon[j]['pz']\n",
        "      m = np.sqrt(E*E-Px*Px-Py*Py-Pz*Pz)\n",
        "      mass.append(m)\n",
        "      if (muon[i]['q']==1 and muon[j]['q']==1): #loop for pairing 2 muons only out of n muons when both have positive charge.\n",
        "        E = muon[i]['e']+muon[j]['e']\n",
        "        Px = muon[i]['px'] + muon[j]['px']\n",
        "        Py = muon[i]['py'] + muon[j]['py'] \n",
        "        Pz = muon[i]['pz'] + muon[j]['pz']\n",
        "        m = np.sqrt(E*E-Px*Px-Py*Py-Pz*Pz)\n",
        "        mass_p.append(m)\n",
        "      elif (muon[i]['q']==-1 and muon[j]['q']==-1): #loop for pairing 2 muons only out of n muons when both have negative charge.\n",
        "        E = muon[i]['e']+muon[j]['e']\n",
        "        Px = muon[i]['px'] + muon[j]['px']\n",
        "        Py = muon[i]['py'] + muon[j]['py'] \n",
        "        Pz = muon[i]['pz'] + muon[j]['pz']\n",
        "        m = np.sqrt(E*E-Px*Px-Py*Py-Pz*Pz)\n",
        "        mass_n.append(m)\n",
        "      else: #loop for pairing 2 muons only out of n muons when both have opposite charge.\n",
        "        E = muon[i]['e']+muon[j]['e']\n",
        "        Px = muon[i]['px'] + muon[j]['px']\n",
        "        Py = muon[i]['py'] + muon[j]['py'] \n",
        "        Pz = muon[i]['pz'] + muon[j]['pz']\n",
        "        m = np.sqrt(E*E-Px*Px-Py*Py-Pz*Pz)\n",
        "        mass_o.append(m)\n",
        "plt.hist(mass, bins=120, range=(0,50)) #plotting histogram of all dimuon pair invarient mass\n",
        "#plt.hist(mass_p, bins=120, range=(0,50)) \n",
        "#plt.hist(mass_n, bins=120, range=(0,50))\n",
        "#plt.hist(mass_o, bins=120, range=(0,50))"
      ],
      "execution_count": 5,
      "outputs": [
        {
          "output_type": "execute_result",
          "data": {
            "text/plain": [
              "(array([0.0000e+00, 0.0000e+00, 0.0000e+00, 0.0000e+00, 1.6520e+03,\n",
              "        7.3540e+03, 6.0380e+03, 1.2619e+04, 3.3700e+03, 2.3590e+03,\n",
              "        1.9670e+03, 1.8080e+03, 1.7890e+03, 1.7970e+03, 1.8060e+03,\n",
              "        1.8550e+03, 1.9540e+03, 1.9030e+03, 2.0310e+03, 2.0500e+03,\n",
              "        2.0100e+03, 1.9700e+03, 3.3200e+03, 2.2910e+03, 2.1880e+03,\n",
              "        1.9180e+03, 1.7860e+03, 1.7220e+03, 1.6120e+03, 1.5420e+03,\n",
              "        1.4710e+03, 1.3960e+03, 1.3180e+03, 1.2100e+03, 1.2090e+03,\n",
              "        1.1340e+03, 1.0840e+03, 9.9300e+02, 9.7100e+02, 9.2100e+02,\n",
              "        8.5600e+02, 7.8100e+02, 7.3300e+02, 7.4000e+02, 6.6500e+02,\n",
              "        5.7600e+02, 6.4400e+02, 5.6700e+02, 5.6500e+02, 5.0600e+02,\n",
              "        4.7200e+02, 4.7300e+02, 4.3300e+02, 4.2100e+02, 3.8000e+02,\n",
              "        3.6300e+02, 3.0300e+02, 2.6600e+02, 3.0000e+02, 2.7800e+02,\n",
              "        2.7400e+02, 2.3300e+02, 2.0900e+02, 2.1900e+02, 1.7800e+02,\n",
              "        1.8700e+02, 1.4900e+02, 1.7900e+02, 1.5600e+02, 1.7700e+02,\n",
              "        1.3800e+02, 1.2000e+02, 1.2100e+02, 1.2000e+02, 1.0500e+02,\n",
              "        1.0400e+02, 1.0800e+02, 6.9000e+01, 6.9000e+01, 9.0000e+01,\n",
              "        7.4000e+01, 7.3000e+01, 7.2000e+01, 6.0000e+01, 4.9000e+01,\n",
              "        5.2000e+01, 4.5000e+01, 4.1000e+01, 5.6000e+01, 5.7000e+01,\n",
              "        3.1000e+01, 2.8000e+01, 3.6000e+01, 3.3000e+01, 3.1000e+01,\n",
              "        3.6000e+01, 3.0000e+01, 2.8000e+01, 2.8000e+01, 3.1000e+01,\n",
              "        3.3000e+01, 3.7000e+01, 2.8000e+01, 2.9000e+01, 2.6000e+01,\n",
              "        2.5000e+01, 2.2000e+01, 2.3000e+01, 1.9000e+01, 2.5000e+01,\n",
              "        2.2000e+01, 1.4000e+01, 2.3000e+01, 1.7000e+01, 1.8000e+01,\n",
              "        1.2000e+01, 1.6000e+01, 1.4000e+01, 2.1000e+01, 1.2000e+01]),\n",
              " array([ 0.        ,  0.41666666,  0.8333333 ,  1.25      ,  1.6666666 ,\n",
              "         2.0833333 ,  2.5       ,  2.9166667 ,  3.3333333 ,  3.75      ,\n",
              "         4.1666665 ,  4.5833335 ,  5.        ,  5.4166665 ,  5.8333335 ,\n",
              "         6.25      ,  6.6666665 ,  7.0833335 ,  7.5       ,  7.9166665 ,\n",
              "         8.333333  ,  8.75      ,  9.166667  ,  9.583333  , 10.        ,\n",
              "        10.416667  , 10.833333  , 11.25      , 11.666667  , 12.083333  ,\n",
              "        12.5       , 12.916667  , 13.333333  , 13.75      , 14.166667  ,\n",
              "        14.583333  , 15.        , 15.416667  , 15.833333  , 16.25      ,\n",
              "        16.666666  , 17.083334  , 17.5       , 17.916666  , 18.333334  ,\n",
              "        18.75      , 19.166666  , 19.583334  , 20.        , 20.416666  ,\n",
              "        20.833334  , 21.25      , 21.666666  , 22.083334  , 22.5       ,\n",
              "        22.916666  , 23.333334  , 23.75      , 24.166666  , 24.583334  ,\n",
              "        25.        , 25.416666  , 25.833334  , 26.25      , 26.666666  ,\n",
              "        27.083334  , 27.5       , 27.916666  , 28.333334  , 28.75      ,\n",
              "        29.166666  , 29.583334  , 30.        , 30.416666  , 30.833334  ,\n",
              "        31.25      , 31.666666  , 32.083332  , 32.5       , 32.916668  ,\n",
              "        33.333332  , 33.75      , 34.166668  , 34.583332  , 35.        ,\n",
              "        35.416668  , 35.833332  , 36.25      , 36.666668  , 37.083332  ,\n",
              "        37.5       , 37.916668  , 38.333332  , 38.75      , 39.166668  ,\n",
              "        39.583332  , 40.        , 40.416668  , 40.833332  , 41.25      ,\n",
              "        41.666668  , 42.083332  , 42.5       , 42.916668  , 43.333332  ,\n",
              "        43.75      , 44.166668  , 44.583332  , 45.        , 45.416668  ,\n",
              "        45.833332  , 46.25      , 46.666668  , 47.083332  , 47.5       ,\n",
              "        47.916668  , 48.333332  , 48.75      , 49.166668  , 49.583332  ,\n",
              "        50.        ], dtype=float32),\n",
              " <a list of 120 Patch objects>)"
            ]
          },
          "metadata": {
            "tags": []
          },
          "execution_count": 5
        },
        {
          "output_type": "display_data",
          "data": {
            "image/png": "[encoded data removed]",
            "text/plain": [
              "<Figure size 432x288 with 1 Axes>"
            ]
          },
          "metadata": {
            "tags": [],
            "needs_background": "light"
          }
        }
      ]
    },
    {
      "cell_type": "markdown",
      "metadata": {
        "id": "TUi7PgR6CRMt",
        "colab_type": "text"
      },
      "source": [
        "#### Comments"
      ]
    },
    {
      "cell_type": "markdown",
      "metadata": {
        "id": "4Kps3sGICRMu",
        "colab_type": "text"
      },
      "source": [
        "Depending on which file you ran over, you may see hints of particles below 20 GeV/c$^2$. It is possible you see signs of other particles at even higher energies. Plot your masses over a wide range of values, but then zoom in (change the plotting range) on different mass ranges to see if you can identify these particles.  "
      ]
    },
    {
      "cell_type": "code",
      "metadata": {
        "id": "Tm2ybHdnxqWd",
        "colab_type": "code",
        "colab": {
          "base_uri": "https://localhost:8080/",
          "height": 769
        },
        "outputId": "560e2702-ec5a-49f4-c240-c09437287e67"
      },
      "source": [
        "plt.hist(mass, bins=120, range=(2,5)) #particel is J/psi(ccbar) of mass 3.09 GeV"
      ],
      "execution_count": 10,
      "outputs": [
        {
          "output_type": "execute_result",
          "data": {
            "text/plain": [
              "(array([ 489.,  493.,  471.,  506.,  497.,  476.,  445.,  473.,  410.,\n",
              "         432.,  439.,  447.,  414.,  474.,  445.,  407.,  454.,  408.,\n",
              "         431.,  384.,  382.,  373.,  401.,  353.,  396.,  365.,  336.,\n",
              "         392.,  351.,  388.,  341.,  336.,  335.,  366.,  338.,  352.,\n",
              "         353.,  323.,  356.,  415.,  559.,  871., 1754., 2606., 2286.,\n",
              "        1101.,  563.,  358.,  291.,  257.,  233.,  252.,  207.,  212.,\n",
              "         217.,  198.,  212.,  181.,  182.,  175.,  200.,  186.,  170.,\n",
              "         202.,  198.,  203.,  236.,  253.,  228.,  184.,  168.,  152.,\n",
              "         146.,  154.,  151.,  161.,  132.,  143.,  134.,  104.,  146.,\n",
              "         128.,  146.,  133.,  134.,  143.,  128.,  126.,  109.,  141.,\n",
              "         129.,  114.,  102.,  119.,  137.,  105.,  105.,  101.,  115.,\n",
              "         119.,  122.,  121.,  125.,  106.,  106.,  118.,   98.,  105.,\n",
              "         131.,  101.,  106.,   99.,   99.,  108.,  116.,  107.,  108.,\n",
              "         119.,   98.,  117.]),\n",
              " array([2.   , 2.025, 2.05 , 2.075, 2.1  , 2.125, 2.15 , 2.175, 2.2  ,\n",
              "        2.225, 2.25 , 2.275, 2.3  , 2.325, 2.35 , 2.375, 2.4  , 2.425,\n",
              "        2.45 , 2.475, 2.5  , 2.525, 2.55 , 2.575, 2.6  , 2.625, 2.65 ,\n",
              "        2.675, 2.7  , 2.725, 2.75 , 2.775, 2.8  , 2.825, 2.85 , 2.875,\n",
              "        2.9  , 2.925, 2.95 , 2.975, 3.   , 3.025, 3.05 , 3.075, 3.1  ,\n",
              "        3.125, 3.15 , 3.175, 3.2  , 3.225, 3.25 , 3.275, 3.3  , 3.325,\n",
              "        3.35 , 3.375, 3.4  , 3.425, 3.45 , 3.475, 3.5  , 3.525, 3.55 ,\n",
              "        3.575, 3.6  , 3.625, 3.65 , 3.675, 3.7  , 3.725, 3.75 , 3.775,\n",
              "        3.8  , 3.825, 3.85 , 3.875, 3.9  , 3.925, 3.95 , 3.975, 4.   ,\n",
              "        4.025, 4.05 , 4.075, 4.1  , 4.125, 4.15 , 4.175, 4.2  , 4.225,\n",
              "        4.25 , 4.275, 4.3  , 4.325, 4.35 , 4.375, 4.4  , 4.425, 4.45 ,\n",
              "        4.475, 4.5  , 4.525, 4.55 , 4.575, 4.6  , 4.625, 4.65 , 4.675,\n",
              "        4.7  , 4.725, 4.75 , 4.775, 4.8  , 4.825, 4.85 , 4.875, 4.9  ,\n",
              "        4.925, 4.95 , 4.975, 5.   ], dtype=float32),\n",
              " <a list of 120 Patch objects>)"
            ]
          },
          "metadata": {
            "tags": []
          },
          "execution_count": 10
        },
        {
          "output_type": "display_data",
          "data": {
            "image/png": "[encoded data removed]",
            "text/plain": [
              "<Figure size 432x288 with 1 Axes>"
            ]
          },
          "metadata": {
            "tags": [],
            "needs_background": "light"
          }
        }
      ]
    },
    {
      "cell_type": "code",
      "metadata": {
        "id": "bQmLRyDfKIRs",
        "colab_type": "code",
        "colab": {
          "base_uri": "https://localhost:8080/",
          "height": 754
        },
        "outputId": "58282553-69d8-4530-f24d-6cf7837826e0"
      },
      "source": [
        "plt.hist(mass, bins=120, range=(8,11)) #particel is upsilon(bbbar) of mass 9.46 GeV"
      ],
      "execution_count": 13,
      "outputs": [
        {
          "output_type": "execute_result",
          "data": {
            "text/plain": [
              "(array([120., 140., 133., 124., 109., 120., 125., 127., 124., 132., 100.,\n",
              "         93., 135., 124., 135., 104., 127., 128., 110., 115., 115., 124.,\n",
              "        122., 141., 107., 135., 126., 100., 115., 123., 103., 122., 106.,\n",
              "        128., 111., 129., 130., 101., 112., 128., 115., 130., 134.,  98.,\n",
              "        137., 108., 113., 140., 128., 136., 123., 151., 172., 203., 231.,\n",
              "        242., 259., 288., 257., 248., 253., 209., 174., 179., 159., 141.,\n",
              "        124., 142., 132., 140., 112., 133., 115., 126., 129., 137., 145.,\n",
              "        146., 144., 158., 142., 156., 149., 127., 127., 119., 129., 129.,\n",
              "        132., 127., 119., 126., 124., 128., 130., 139., 127., 139., 119.,\n",
              "        119., 123., 128., 108.,  98., 100., 106., 110., 121., 129., 113.,\n",
              "        109., 104., 126.,  90., 102.,  99., 123., 108., 106.,  97.]),\n",
              " array([ 8.   ,  8.025,  8.05 ,  8.075,  8.1  ,  8.125,  8.15 ,  8.175,\n",
              "         8.2  ,  8.225,  8.25 ,  8.275,  8.3  ,  8.325,  8.35 ,  8.375,\n",
              "         8.4  ,  8.425,  8.45 ,  8.475,  8.5  ,  8.525,  8.55 ,  8.575,\n",
              "         8.6  ,  8.625,  8.65 ,  8.675,  8.7  ,  8.725,  8.75 ,  8.775,\n",
              "         8.8  ,  8.825,  8.85 ,  8.875,  8.9  ,  8.925,  8.95 ,  8.975,\n",
              "         9.   ,  9.025,  9.05 ,  9.075,  9.1  ,  9.125,  9.15 ,  9.175,\n",
              "         9.2  ,  9.225,  9.25 ,  9.275,  9.3  ,  9.325,  9.35 ,  9.375,\n",
              "         9.4  ,  9.425,  9.45 ,  9.475,  9.5  ,  9.525,  9.55 ,  9.575,\n",
              "         9.6  ,  9.625,  9.65 ,  9.675,  9.7  ,  9.725,  9.75 ,  9.775,\n",
              "         9.8  ,  9.825,  9.85 ,  9.875,  9.9  ,  9.925,  9.95 ,  9.975,\n",
              "        10.   , 10.025, 10.05 , 10.075, 10.1  , 10.125, 10.15 , 10.175,\n",
              "        10.2  , 10.225, 10.25 , 10.275, 10.3  , 10.325, 10.35 , 10.375,\n",
              "        10.4  , 10.425, 10.45 , 10.475, 10.5  , 10.525, 10.55 , 10.575,\n",
              "        10.6  , 10.625, 10.65 , 10.675, 10.7  , 10.725, 10.75 , 10.775,\n",
              "        10.8  , 10.825, 10.85 , 10.875, 10.9  , 10.925, 10.95 , 10.975,\n",
              "        11.   ], dtype=float32),\n",
              " <a list of 120 Patch objects>)"
            ]
          },
          "metadata": {
            "tags": []
          },
          "execution_count": 13
        },
        {
          "output_type": "display_data",
          "data": {
            "image/png": "[encoded data removed]",
            "text/plain": [
              "<Figure size 432x288 with 1 Axes>"
            ]
          },
          "metadata": {
            "tags": [],
            "needs_background": "light"
          }
        }
      ]
    }
  ]
}